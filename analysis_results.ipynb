{
 "cells": [
  {
   "cell_type": "code",
   "execution_count": null,
   "id": "e655be62",
   "metadata": {},
   "outputs": [],
   "source": [
    "import json\n",
    "import os\n",
    "import pandas as pd"
   ]
  },
  {
   "cell_type": "code",
   "execution_count": null,
   "id": "d8815ccf",
   "metadata": {},
   "outputs": [],
   "source": [
    "LOG_DIR = \"./logs/transformer\"\n",
    "results_df = []\n",
    "for filename in os.listdir(LOG_DIR):\n",
    "    f = os.path.join(LOG_DIR, filename)\n",
    "    items = filename.split(\".\")[0].split(\"_\")\n",
    "    if \"ipynb_checkpoints\" in filename:\n",
    "        continue\n",
    "    model_name = items[1] + \"_\" + items[2]\n",
    "    if os.path.isfile(f):\n",
    "        json.load(open(f))\n",
    "        df = pd.read_json(f, orient='index')\n",
    "        seeds = []\n",
    "        data_names = []\n",
    "        lf_names = []\n",
    "        for condition in df.index:\n",
    "            seed = condition.split(\"_\")[0]\n",
    "            data_name = condition.split(\"_\")[1]\n",
    "            lf_name = \"_\".join(condition.split(\"_\")[2:])\n",
    "            seeds += [seed]\n",
    "            data_names += [data_name]\n",
    "            lf_names += [lf_name]\n",
    "        df[\"seed\"] = seeds\n",
    "        df[\"data\"] = data_names\n",
    "        df[\"lf\"] = lf_names\n",
    "    results_df += [df]\n",
    "results_df = pd.concat(results_df)\n",
    "results_df.groupby(['data', 'lf'], as_index=False).mean().round(1)"
   ]
  },
  {
   "cell_type": "code",
   "execution_count": null,
   "id": "6b9e1cfd",
   "metadata": {},
   "outputs": [],
   "source": [
    "results_df.groupby(['data', 'lf'], as_index=False).std().round(1)"
   ]
  },
  {
   "cell_type": "code",
   "execution_count": null,
   "id": "cbd8af2b",
   "metadata": {},
   "outputs": [],
   "source": [
    "LOG_DIR = \"./logs/lstm\"\n",
    "results_df = []\n",
    "for filename in os.listdir(LOG_DIR):\n",
    "    f = os.path.join(LOG_DIR, filename)\n",
    "    items = filename.split(\".\")[0].split(\"_\")\n",
    "    if \"ipynb_checkpoints\" in filename:\n",
    "        continue\n",
    "    model_name = items[1] + \"_\" + items[2]\n",
    "    if os.path.isfile(f):\n",
    "        json.load(open(f))\n",
    "        df = pd.read_json(f, orient='index')\n",
    "        seeds = []\n",
    "        data_names = []\n",
    "        lf_names = []\n",
    "        for condition in df.index:\n",
    "            seed = condition.split(\"_\")[0]\n",
    "            data_name = condition.split(\"_\")[1]\n",
    "            lf_name = \"_\".join(condition.split(\"_\")[2:])\n",
    "            seeds += [seed]\n",
    "            data_names += [data_name]\n",
    "            lf_names += [lf_name]\n",
    "        df[\"seed\"] = seeds\n",
    "        df[\"data\"] = data_names\n",
    "        df[\"lf\"] = lf_names\n",
    "    results_df += [df]\n",
    "results_df = pd.concat(results_df)\n",
    "results_df.groupby(['data', 'lf'], as_index=False).mean().round(1)"
   ]
  },
  {
   "cell_type": "code",
   "execution_count": null,
   "id": "09b7a385",
   "metadata": {},
   "outputs": [],
   "source": [
    "results_df.groupby(['data', 'lf'], as_index=False).std().round(1)"
   ]
  },
  {
   "cell_type": "markdown",
   "id": "36945bd8",
   "metadata": {},
   "source": [
    "#### New Eval Function"
   ]
  },
  {
   "cell_type": "code",
   "execution_count": null,
   "id": "ced06696",
   "metadata": {},
   "outputs": [],
   "source": [
    "from utils.compgen import recogs_exact_match"
   ]
  },
  {
   "cell_type": "code",
   "execution_count": null,
   "id": "4583402f",
   "metadata": {},
   "outputs": [],
   "source": [
    "example = ('Emma ( 53 ) ; Ella ( 43 ) ; Liam ( 47 ) ; Oliver ( 1 ) ; girl ( 51 ) ; Bella ( 10 ) ; Ava ( 11 ) ; hero ( 28 ) ; * cake ( 46 ) ; * truck ( 20 ) ; * crib ( 0 ) ; * room ( 25 ) ; nmod . on ( 46 , 20 ) AND nmod . in ( 20 , 0 ) AND nmod . in ( 0 , 25 ) AND like ( 54 ) AND agent ( 54 , 53 ) AND ccomp ( 54 , 35 ) AND like ( 35 ) AND agent ( 35 , 43 ) AND ccomp ( 35 , 9 ) AND respect ( 9 ) AND agent ( 9 , 47 ) AND ccomp ( 9 , 22 ) AND notice ( 22 ) AND agent ( 22 , 1 ) AND ccomp ( 22 , 16 ) AND imagine ( 16 ) AND agent ( 16 , 51 ) AND ccomp ( 16 , 37 ) AND mean ( 37 ) AND agent ( 37 , 10 ) AND ccomp ( 37 , 59 ) AND say ( 59 ) AND agent ( 59 , 11 ) AND ccomp ( 59 , 2 ) AND award ( 2 ) AND recipient ( 2 , 28 ) AND theme ( 2 , 46 )',\n",
    " 'Emma ( 25 ) ; Ella ( 50 ) ; Liam ( 8 ) ; Oliver ( 9 ) ; girl ( 14 ) ; girl ( 6 ) ; Ava ( 45 ) ; Ava ( 9 ) ; hero ( 29 ) ; * cake ( 42 ) ; * truck ( 13 ) ; * room ( 56 ) ; * room ( 16 ) ; nmod . on ( 42 , 56 ) AND nmod . in ( 13 , 33 ) AND like ( 23 ) AND agent ( 23 , 25 ) AND ccomp ( 23 , 21 ) AND like ( 21 ) AND agent ( 21 , 50 ) AND ccomp ( 21 , 20 ) AND respect ( 20 ) AND agent ( 20 , 8 ) AND ccomp ( 20 , 50 ) AND imagine ( 50 ) AND agent ( 50 , 14 ) AND ccomp ( 50 , 50 ) AND mean ( 50 ) AND agent ( 50 , 6 ) AND ccomp ( 50 , 54 ) AND say ( 54 ) AND agent ( 54 , 45 ) AND ccomp ( 54 , 53 ) AND award ( 53 ) AND recipient ( 53 , 29 ) AND theme ( 53 , 42 ) AND award ( 22 ) AND agent ( 22 , 29 ) AND theme ( 22 , 42 )',\n",
    " False)\n",
    "gold = example[0]\n",
    "predicted = example[1]\n",
    "recogs_exact_match(gold, predicted)"
   ]
  }
 ],
 "metadata": {
  "kernelspec": {
   "display_name": "Python 3 (ipykernel)",
   "language": "python",
   "name": "python3"
  },
  "language_info": {
   "codemirror_mode": {
    "name": "ipython",
    "version": 3
   },
   "file_extension": ".py",
   "mimetype": "text/x-python",
   "name": "python",
   "nbconvert_exporter": "python",
   "pygments_lexer": "ipython3",
   "version": "3.10.11"
  }
 },
 "nbformat": 4,
 "nbformat_minor": 5
}
